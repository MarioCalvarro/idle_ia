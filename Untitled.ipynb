{
 "cells": [
  {
   "cell_type": "markdown",
   "id": "02bbdeb3-8cf4-406c-b368-310146e52af2",
   "metadata": {},
   "source": [
    "# Práctica 6, Grupo 02 (Mario Calvarro, Beñat Pérez)"
   ]
  },
  {
   "cell_type": "markdown",
   "id": "bcc53ab2-7601-45a7-9a17-f23536de9dde",
   "metadata": {},
   "source": [
    "## Representación cromosomas\n",
    "Para representar cada cromosoma hemos optado por una lista de 900 listas de seis enteros. Cada uno de estos enteros representa la cantidad de minas de un determinado tipo (van en orden) que se compran en ese segundo. "
   ]
  },
  {
   "cell_type": "markdown",
   "id": "7bbcdebd-eaaf-477d-925a-857a4514ad21",
   "metadata": {},
   "source": [
    "## Población inicial\n",
    "Para generar la población inicial hemos utilizado la siguiente asignación:"
   ]
  },
  {
   "cell_type": "code",
   "execution_count": null,
   "id": "492ff263-788a-40e3-8996-bb39a2c8499b",
   "metadata": {},
   "outputs": [],
   "source": [
    "number: int = int(random.randint(0, 1) * 1.045 **(i-90))\n",
    "number = round(number * 3**(-6.5*ii))"
   ]
  },
  {
   "cell_type": "markdown",
   "id": "8e4f4c96-269d-454c-96fd-da90e7aa846a",
   "metadata": {},
   "source": [
    "Es decir, tiene un crecimiento exponencial respecto de los segundos e inversamente exponencial respecto de las minas. Por tanto, los últimos segundos se compraran muchas más minas y las minas de precio más bajo se compraran en mayor cantidad.\n",
    "\n",
    "Los últimos 20 segundos no se compra ninguna mina."
   ]
  },
  {
   "cell_type": "markdown",
   "id": "b1df1197-c643-40b6-b135-2f5fb80c7ce9",
   "metadata": {},
   "source": [
    "## Operadores genéticos\n",
    "### Selección\n",
    "Para seleccionar que individuos se cruzaran o pasarán a la siguiente generación utilizamos una selección por torneo de grupos de 3 individuos donde tomamos aquel que tenga mayor fitness (oro al final de la partida)."
   ]
  },
  {
   "cell_type": "markdown",
   "id": "31c77e4b-0dea-400a-8d42-6ea26d808a89",
   "metadata": {},
   "source": [
    "### Mutación\n",
    "Al final de la creación de una nueva generación, mutamos los individuos. La mutación de cada uno consiste en elegir aleatoriamente, con una proporción del 0.02%, segundos y sobre cada uno de estos elegidos multiplicar, con probabilidad, por 0.5 la cantidad de minas cambiadas. Como antes, la probabilidad crece exponencialmente respecto del segundo y decrece sobre el tipo de mina, es decir, los últimos segundos segundos cambiarán con mayor probabilidad la cantidad de minas compradas, siendo más probable este cambio para las minas baratas.  "
   ]
  },
  {
   "cell_type": "markdown",
   "id": "a5e14256-813a-41a6-9019-b761ba7f1a8b",
   "metadata": {},
   "source": [
    "### Cruze\n",
    "Cruzamos cada individuo con su siguiente en la población. El cruze devuelve dos nuevos individuos y se realiza, sobre cada segundo, tomando el primer tercio y el último de un padre y el restante del otro. El padre con mayor cantidad de genes se elige aleatoriamente.\n",
    "\n",
    "En base a un parámetro, una parte de la población pasa a la siguiente generación sin cruzarse."
   ]
  },
  {
   "cell_type": "markdown",
   "id": "2b37b050-0a1f-4c8e-b072-14a9b2ec1985",
   "metadata": {},
   "source": [
    "## Función de evaluación\n",
    "La función de evaluación consiste simplemente en la ejecucción del juego comprando minas según indica el cromosoma en sus genes. Cada vez que se realice una compra inválida, se múltiplica el fitness por 0.9 y se cambia el valor para que sea válido de nuevo."
   ]
  },
  {
   "cell_type": "markdown",
   "id": "849f9f23-d2de-49e7-b0b7-7cb7bdf57b00",
   "metadata": {},
   "source": [
    "## Parámetros\n",
    "- Número de torneo: 3 individuos en los grupos del torneo.\n",
    "- Número de generaciones: 200 (más generaciones no incrementa mucho el resultado final)\n",
    "- Proporción de cruces: 30% (un valor mayor solo reduce el rendimiento)\n",
    "- Tamaño de la población: 20 (de nuevo, un valor mayor solo reduce el rendimiento)"
   ]
  },
  {
   "cell_type": "markdown",
   "id": "c2487dc6-c34f-489b-b765-6d88240fc36f",
   "metadata": {},
   "source": [
    "## Resultados\n",
    "Como resultados finales hemos utilizado el siguiente script para realizar 100 ejecucciones y tomamos la media de ellas. Mostramos el número de dígitos de la solución porque al ser números tan grandes lo consideramos más representativo."
   ]
  },
  {
   "cell_type": "code",
   "execution_count": 5,
   "id": "b4d34065-25ec-4126-9058-f157f5f8e9b8",
   "metadata": {},
   "outputs": [
    {
     "name": "stdout",
     "output_type": "stream",
     "text": [
      "El número de dígitos de la solución media es 18.19932910926361 y el valor es 1.5824467664720458e+18\n",
      "CPU times: user 5min 41s, sys: 952 ms, total: 5min 42s\n",
      "Wall time: 5min 45s\n"
     ]
    }
   ],
   "source": [
    "%%time\n",
    "import math\n",
    "import main\n",
    "\n",
    "num_ej = 100\n",
    "sum = 0\n",
    "for i in range(num_ej):\n",
    "    sum += main.res()\n",
    "\n",
    "res = sum / num_ej\n",
    "print(f\"El número de dígitos de la solución media es {math.log(res, 10)} y el valor es {res}\")"
   ]
  },
  {
   "cell_type": "markdown",
   "id": "5f93b128-4e66-40c6-850c-7c12d0e1ce58",
   "metadata": {},
   "source": [
    "El resultado final que hemos obtenido ha sido de **18.2 dígitos** en 5min 40s, es decir, **3.4s** por cada ejecucción."
   ]
  }
 ],
 "metadata": {
  "kernelspec": {
   "display_name": "Python 3 (ipykernel)",
   "language": "python",
   "name": "python3"
  },
  "language_info": {
   "codemirror_mode": {
    "name": "ipython",
    "version": 3
   },
   "file_extension": ".py",
   "mimetype": "text/x-python",
   "name": "python",
   "nbconvert_exporter": "python",
   "pygments_lexer": "ipython3",
   "version": "3.11.6"
  }
 },
 "nbformat": 4,
 "nbformat_minor": 5
}
