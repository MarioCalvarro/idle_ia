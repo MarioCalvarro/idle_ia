{
 "cells": [
  {
   "cell_type": "markdown",
   "id": "02bbdeb3-8cf4-406c-b368-310146e52af2",
   "metadata": {},
   "source": [
    "# Práctica 6, Grupo 02 (Mario Calvarro, Beñat Pérez)"
   ]
  },
  {
   "cell_type": "markdown",
   "id": "bcc53ab2-7601-45a7-9a17-f23536de9dde",
   "metadata": {},
   "source": [
    "## Representación cromosomas\n",
    "Para representar cada cromosoma hemos optado por una lista de 900 listas de seis enteros cada una. Estos enteros representan la cantidad de minas de un determinado tipo (en orden) que se compran en ese segundo. "
   ]
  },
  {
   "cell_type": "markdown",
   "id": "8ae570de-2c02-4fc6-b996-107b2c3863c6",
   "metadata": {},
   "source": [
    "## Decodificación\n",
    "En nuestro caso el fenotipo es igual al genotipo."
   ]
  },
  {
   "cell_type": "markdown",
   "id": "7bbcdebd-eaaf-477d-925a-857a4514ad21",
   "metadata": {},
   "source": [
    "## Población inicial\n",
    "Para generar la población inicial hemos utilizado la siguiente asignación:"
   ]
  },
  {
   "cell_type": "code",
   "execution_count": null,
   "id": "492ff263-788a-40e3-8996-bb39a2c8499b",
   "metadata": {},
   "outputs": [],
   "source": [
    "number: int = int(random.randint(0, 1) * 1.045 **(i-90))\n",
    "number = round(number * 3**(-6.5*ii))"
   ]
  },
  {
   "cell_type": "markdown",
   "id": "8e4f4c96-269d-454c-96fd-da90e7aa846a",
   "metadata": {},
   "source": [
    "Es decir, tiene un crecimiento exponencial respecto de los segundos e inversamente exponencial respecto de las minas. Por tanto, los últimos segundos se compraran muchas más minas y las minas de precio más bajo se compraran en mayor cantidad.\n",
    "\n",
    "Los últimos 20 segundos no se compra ninguna mina."
   ]
  },
  {
   "cell_type": "markdown",
   "id": "b1df1197-c643-40b6-b135-2f5fb80c7ce9",
   "metadata": {},
   "source": [
    "## Operadores genéticos\n",
    "### Selección\n",
    "Para seleccionar que individuos se cruzaran o pasarán a la siguiente generación utilizamos una selección por torneo de grupos de 3 individuos donde tomamos aquel que tenga mayor fitness (oro al final de la partida)."
   ]
  },
  {
   "cell_type": "markdown",
   "id": "31c77e4b-0dea-400a-8d42-6ea26d808a89",
   "metadata": {},
   "source": [
    "### Mutación\n",
    "Al final de la creación de una nueva generación, mutamos los individuos. La mutación de cada uno consiste en elegir aleatoriamente, con una proporción del 0.02%, segundos y sobre cada uno de estos elegidos sumar o restar, con probabilidad, un entero entre 0 y el valor anterior por 1.5. De esta forma, el crecimiento será exponencial respecto de las generaciones. Como antes, la probabilidad crece exponencialmente respecto de los segundos y decrece sobre el tipo de mina, es decir, los últimos segundos cambiarán con mayor probabilidad la cantidad de minas compradas, siendo aún más probable este cambio para las minas baratas.  "
   ]
  },
  {
   "cell_type": "markdown",
   "id": "a5e14256-813a-41a6-9019-b761ba7f1a8b",
   "metadata": {},
   "source": [
    "### Cruce\n",
    "Cruzamos cada individuo con su siguiente en la población. El cruce devuelve dos nuevos individuos. Se realiza sobre cada segundo tomando el primer tercio y el último de un padre y el restante del otro. El padre con mayor cantidad de genes se elige aleatoriamente.\n",
    "\n",
    "En base a un parámetro (proporción de cruces), una parte de la población pasa a la siguiente generación sin cruzarse."
   ]
  },
  {
   "cell_type": "markdown",
   "id": "2b37b050-0a1f-4c8e-b072-14a9b2ec1985",
   "metadata": {},
   "source": [
    "## Función de evaluación\n",
    "La función de evaluación consiste simplemente en la ejecucción del juego comprando minas según indica el cromosoma en sus genes. Cada vez que se realice una compra inválida ese individuo tendrá automáticamente un fitness de -1."
   ]
  },
  {
   "cell_type": "markdown",
   "id": "849f9f23-d2de-49e7-b0b7-7cb7bdf57b00",
   "metadata": {},
   "source": [
    "## Parámetros\n",
    "- Número de torneo: 3 individuos en los grupos del torneo.\n",
    "- Número de generaciones: 200\n",
    "- Proporción de cruces: 80%\n",
    "- Tamaño de la población: 20 (un valor mayor solo reduce el rendimiento)"
   ]
  },
  {
   "cell_type": "markdown",
   "id": "c2487dc6-c34f-489b-b765-6d88240fc36f",
   "metadata": {},
   "source": [
    "## Resultados\n",
    "Como resultados finales hemos utilizado el siguiente script para realizar 100 ejecucciones y tomar la media de ellas. Mostramos el número de dígitos de la solución porque al ser números tan grandes lo consideramos más representativo. Las ejecucciones se realizan en paralelo/concurrente para que sean más rápidas."
   ]
  },
  {
   "cell_type": "code",
   "execution_count": 1,
   "id": "b4d34065-25ec-4126-9058-f157f5f8e9b8",
   "metadata": {},
   "outputs": [
    {
     "name": "stdout",
     "output_type": "stream",
     "text": [
      "Final: 18.135306722319243\n",
      "Final: 18.12011546544637\n",
      "Final: 18.15787333972489Final: 18.17122346319397\n",
      "\n",
      "Final: 18.10337701314912\n",
      "Final: 18.181534870957087\n",
      "Final: 18.137602722575338\n",
      "Final: 18.199335090600076\n",
      "Final: 18.22052615383605\n",
      "Final: 18.18973658953762\n",
      "Final: 18.157160864770585\n",
      "Final: 18.13911680626744\n",
      "Final: 18.167188285726347\n",
      "Final: 18.065872382242006\n",
      "Final: 18.134050807928976\n",
      "Final: 18.171495541852526\n",
      "Final: 18.15381939533121\n",
      "Final: 18.154242891951295\n",
      "Final: 18.11234480867173\n",
      "Final: 18.129356054467024\n",
      "Final: 18.123875907364933\n",
      "Final: 18.123464309167225\n",
      "Final: 18.113139981819312\n",
      "Final: 18.142633506075004\n",
      "Final: 18.130029761860676\n",
      "Final: 18.11053315823033\n",
      "Final: 18.194957978108125\n",
      "Final: 18.104912547231056\n",
      "Final: 18.06761850091883\n",
      "Final: 18.159883288355555\n",
      "Final: 18.14827374662919\n",
      "Final: 18.09403088135662\n",
      "Final: 18.12723772143739\n",
      "Final: 18.08086851274746\n",
      "Final: 18.112153214228506\n",
      "Final: 18.135401232242604\n",
      "Final: 18.194259777815454\n",
      "Final: 18.127743303712776\n",
      "Final: 18.155194310657404\n",
      "Final: 18.17408578532194\n",
      "Final: 18.164739194364127\n",
      "Final: 18.16746384164713\n",
      "Final: 18.224558474980192\n",
      "Final: 18.152584679480146\n",
      "Final: 18.115114601185233\n",
      "Final: 18.174042278165444\n",
      "Final: 18.159790039813906\n",
      "Final: 18.135258156971645\n",
      "Final: 18.133555864845977\n",
      "Final: 18.18621867777578\n",
      "Final: 18.176264319248077\n",
      "Final: 18.158961120914114\n",
      "Final: 18.236406673028704\n",
      "Final: 18.153040133796463\n",
      "Final: 18.108414008019604\n",
      "Final: 18.219676591550225\n",
      "Final: 18.226171929622648\n",
      "Final: 18.178293801670783\n",
      "Final: 18.168597528451524\n",
      "Final: 18.150190809015715\n",
      "Final: 18.160683846223098\n",
      "Final: 18.18199114446842\n",
      "Final: 18.12007131360518\n",
      "Final: 18.105143693281967\n",
      "Final: 18.12822553780966\n",
      "Final: 18.18841898006968\n",
      "Final: 18.148783940566513\n",
      "Final: 18.079257523867216\n",
      "Final: 18.196742582129176\n",
      "Final: 18.085053086261546\n",
      "Final: 18.175806695399668\n",
      "Final: 18.17442727399047\n",
      "Final: 18.126125738533094\n",
      "Final: 18.141094026390288\n",
      "Final: 18.201508356354353\n",
      "Final: 18.230763867711982\n",
      "Final: 18.08064477654745\n",
      "Final: 18.112338205352437\n",
      "Final: 18.183615621711546\n",
      "Final: 18.168398072949067\n",
      "Final: 18.194797307366855\n",
      "Final: 18.13274604895586\n",
      "Final: 18.16344209461231\n",
      "Final: 18.05297787922879\n",
      "Final: 18.19836705924793\n",
      "Final: 18.168767754733082\n",
      "Final: 18.18158257597394\n",
      "Final: 18.164570323433086\n",
      "Final: 18.2070432325484\n",
      "Final: 18.15013161727897\n",
      "Final: 18.17904965431066\n",
      "Final: 18.244456833424596\n",
      "Final: 18.159522159032935\n",
      "Final: 18.12704345817825\n",
      "Final: 18.14729362799629\n",
      "Final: 18.19223475408281\n",
      "Final: 18.158860198438866\n",
      "Final: 18.249979373871763\n",
      "Final: 18.2147367221199\n",
      "Final: 18.223057545560764\n",
      "Final results: 18.157048073572923\n",
      "CPU times: user 208 ms, sys: 127 ms, total: 335 ms\n",
      "Wall time: 4min 40s\n"
     ]
    }
   ],
   "source": [
    "%%time\n",
    "import tests\n",
    "\n",
    "tests.main()"
   ]
  },
  {
   "cell_type": "markdown",
   "id": "5f93b128-4e66-40c6-850c-7c12d0e1ce58",
   "metadata": {},
   "source": [
    "El resultado final que hemos obtenido ha sido de **18.16 dígitos** en 4min 40s, pero el tiempo depende enormemente del ordenador (en concreto, del número de núcleos del procesador)."
   ]
  }
 ],
 "metadata": {
  "kernelspec": {
   "display_name": "Python 3 (ipykernel)",
   "language": "python",
   "name": "python3"
  },
  "language_info": {
   "codemirror_mode": {
    "name": "ipython",
    "version": 3
   },
   "file_extension": ".py",
   "mimetype": "text/x-python",
   "name": "python",
   "nbconvert_exporter": "python",
   "pygments_lexer": "ipython3",
   "version": "3.11.6"
  }
 },
 "nbformat": 4,
 "nbformat_minor": 5
}
