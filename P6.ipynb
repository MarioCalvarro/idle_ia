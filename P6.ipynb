{
 "cells": [
  {
   "cell_type": "markdown",
   "id": "02bbdeb3-8cf4-406c-b368-310146e52af2",
   "metadata": {},
   "source": [
    "# Práctica 6, Grupo 02 (Mario Calvarro, Beñat Pérez)"
   ]
  },
  {
   "cell_type": "markdown",
   "id": "bcc53ab2-7601-45a7-9a17-f23536de9dde",
   "metadata": {},
   "source": [
    "## Representación cromosomas\n",
    "Para representar cada cromosoma hemos optado por una lista de 900 listas de seis enteros cada una. Estos enteros representan la cantidad de minas de un determinado tipo (van en orden) que se compran en ese segundo. "
   ]
  },
  {
   "cell_type": "markdown",
   "id": "8ae570de-2c02-4fc6-b996-107b2c3863c6",
   "metadata": {},
   "source": [
    "## Decodificación\n",
    "En nuestro caso el fenotipo es igual al genotipo."
   ]
  },
  {
   "cell_type": "markdown",
   "id": "7bbcdebd-eaaf-477d-925a-857a4514ad21",
   "metadata": {},
   "source": [
    "## Población inicial\n",
    "Para generar la población inicial hemos utilizado la siguiente asignación:"
   ]
  },
  {
   "cell_type": "code",
   "execution_count": null,
   "id": "492ff263-788a-40e3-8996-bb39a2c8499b",
   "metadata": {},
   "outputs": [],
   "source": [
    "number: int = int(random.randint(0, 1) * 1.045 **(i-90))\n",
    "number = round(number * 3**(-6.5*ii))"
   ]
  },
  {
   "cell_type": "markdown",
   "id": "8e4f4c96-269d-454c-96fd-da90e7aa846a",
   "metadata": {},
   "source": [
    "Es decir, tiene un crecimiento exponencial respecto de los segundos e inversamente exponencial respecto de las minas. Por tanto, los últimos segundos se compraran muchas más minas y las minas de precio más bajo se compraran en mayor cantidad.\n",
    "\n",
    "Los últimos 20 segundos no se compra ninguna mina."
   ]
  },
  {
   "cell_type": "markdown",
   "id": "b1df1197-c643-40b6-b135-2f5fb80c7ce9",
   "metadata": {},
   "source": [
    "## Operadores genéticos\n",
    "### Selección\n",
    "Para seleccionar que individuos se cruzaran o pasarán a la siguiente generación utilizamos una selección por torneo de grupos de 3 individuos donde tomamos aquel que tenga mayor fitness (oro al final de la partida)."
   ]
  },
  {
   "cell_type": "markdown",
   "id": "31c77e4b-0dea-400a-8d42-6ea26d808a89",
   "metadata": {},
   "source": [
    "### Mutación\n",
    "Al final de la creación de una nueva generación, mutamos los individuos. La mutación de cada uno consiste en elegir aleatoriamente, con una proporción del 0.02%, segundos y sobre cada uno de estos elegidos sumar o restar, con probabilidad, un entero entre 0 y el valor anterior por 1.5. De esta forma, el crecimiento será exponencial respecto de las generaciones. Como antes, la probabilidad crece exponencialmente respecto del segundo y decrece sobre el tipo de mina, es decir, los últimos segundos segundos cambiarán con mayor probabilidad la cantidad de minas compradas, siendo aún más probable este cambio para las minas baratas.  "
   ]
  },
  {
   "cell_type": "markdown",
   "id": "a5e14256-813a-41a6-9019-b761ba7f1a8b",
   "metadata": {},
   "source": [
    "### Cruce\n",
    "Cruzamos cada individuo con su siguiente en la población. El cruze devuelve dos nuevos individuos y se realiza, sobre cada segundo, tomando el primer tercio y el último de un padre y el restante del otro. El padre con mayor cantidad de genes se elige aleatoriamente.\n",
    "\n",
    "En base a un parámetro, una parte de la población pasa a la siguiente generación sin cruzarse."
   ]
  },
  {
   "cell_type": "markdown",
   "id": "2b37b050-0a1f-4c8e-b072-14a9b2ec1985",
   "metadata": {},
   "source": [
    "## Función de evaluación\n",
    "La función de evaluación consiste simplemente en la ejecucción del juego comprando minas según indica el cromosoma en sus genes. Cada vez que se realice una compra inválida ese individuo tendrá automáticamente un fitness de -1."
   ]
  },
  {
   "cell_type": "markdown",
   "id": "849f9f23-d2de-49e7-b0b7-7cb7bdf57b00",
   "metadata": {},
   "source": [
    "## Parámetros\n",
    "- Número de torneo: 3 individuos en los grupos del torneo.\n",
    "- Número de generaciones: 200\n",
    "- Proporción de cruces: 80%\n",
    "- Tamaño de la población: 20 (un valor mayor solo reduce el rendimiento)"
   ]
  },
  {
   "cell_type": "markdown",
   "id": "c2487dc6-c34f-489b-b765-6d88240fc36f",
   "metadata": {},
   "source": [
    "## Resultados\n",
    "Como resultados finales hemos utilizado el siguiente script para realizar 100 ejecucciones y tomar la media de ellas. Mostramos el número de dígitos de la solución porque al ser números tan grandes lo consideramos más representativo. Las ejecucciones se realizan en paralelo/concurrente para que sean más rápidas."
   ]
  },
  {
   "cell_type": "code",
   "execution_count": 2,
   "id": "b4d34065-25ec-4126-9058-f157f5f8e9b8",
   "metadata": {},
   "outputs": [
    {
     "name": "stdout",
     "output_type": "stream",
     "text": [
      "Final: 1344681413986256314\n",
      "Final: 1502621222203424555\n",
      "Final: 1463441295226288728\n",
      "Final: 1502735333223209384\n",
      "Final: 1611368334290711060\n",
      "Final: 1299382043766292433\n",
      "\n",
      "Final: 1618593470284859764Final: 1522467839776352634\n",
      "Final: 1374956829715907303\n",
      "Final: 1743491475162980247\n",
      "Final: 1550780624804653099\n",
      "Final: 1279177653427882787\n",
      "Final: 1504043936168119319\n",
      "Final: 1215356279192489659\n",
      "Final: 1354794841642891376\n",
      "Final: 1337400777905363259\n",
      "Final: 1517595925719461622\n",
      "Final: 1416426903489177931\n",
      "Final: 1457974934087741149\n",
      "Final: 1425291407467036754\n",
      "Final: 1429602525834385722\n",
      "Final: 1649749817778233442\n",
      "Final: 1331796559784662955\n",
      "Final: 1348780527080601235\n",
      "Final: 1356435917055924828\n",
      "Final: 1537671173786553026\n",
      "Final: 1592267263449023776\n",
      "Final: 1598184931783256619\n",
      "Final: 1746491981583993410\n",
      "Final: 1242432676255096975\n",
      "Final: 1554740739574590175\n",
      "Final: 1512515207399774903\n",
      "Final: 1363516518722433789\n",
      "Final: 1331534843569111695\n",
      "Final: 1276289472873333123\n",
      "Final: 1397146499377857464\n",
      "Final: 1426383902281014943\n",
      "Final: 1344883030529360877\n",
      "Final: 1377967246867921366\n",
      "Final: 1416894207782977917\n",
      "Final: 1542166572975859800\n",
      "Final: 1444033635912351292\n",
      "Final: 1424929150947816053\n",
      "Final: 1570661220597247545\n",
      "Final: 1511255106171391039\n",
      "Final: 1383228956546627838\n",
      "Final: 1395137241021664317\n",
      "Final: 1704620869344511638\n",
      "Final: 1524722009675142161\n",
      "Final: 1493339650559765889\n",
      "Final: 1440325550413588681\n",
      "Final: 1287044574167968533\n",
      "Final: 1339841420005137875\n",
      "Final: 1341373011943012335\n",
      "Final: 1424449567807331768\n",
      "Final: 1588798889989925061\n",
      "Final: 1286039339538097008\n",
      "Final: 1706717940126199466\n",
      "Final: 1506783910984571547\n",
      "Final: 1348437212362016297\n",
      "Final: 1491579193177105769\n",
      "Final: 1435479967810410980\n",
      "Final: 1577404151514768011\n",
      "Final: 1252624314633702489\n",
      "Final: 1658549334841135143\n",
      "Final: 1507935999947248630\n",
      "Final: 1132730725916202641\n",
      "Final: 1311927729736156759\n",
      "Final: 1461820226165848624\n",
      "Final: 1707747941544485221\n",
      "Final: 1485062181862931079\n",
      "Final: 1494333560595830198\n",
      "Final: 1614564090822462174\n",
      "Final: 1392932776712727079\n",
      "Final: 1670420055084816575\n",
      "Final: 1492795680340874914\n",
      "Final: 1272995932363666174\n",
      "Final: 1301479885073793906\n",
      "Final: 1284274916590474406\n",
      "Final: 1393253790784242807\n",
      "Final: 1203951986668164139\n",
      "Final: 1521958212044135814\n",
      "Final: 1665688672492682424\n",
      "Final: 1297603961426027184\n",
      "Final: 1760908009811930123\n",
      "Final: 1514422138206545936\n",
      "Final: 1614210456421774438\n",
      "Final: 1505144000444526645\n",
      "Final: 1530985745254316809\n",
      "Final: 1538403282695080883\n",
      "Final: 1478639065643912353\n",
      "Final: 1435610524823143298\n",
      "Final: 1351658931192998746\n",
      "Final: 1691914950438178759\n",
      "Final: 1623769890777418102\n",
      "Final: 892017806940733448\n",
      "Final: 1507092139217977249\n",
      "Final: 1285476923563126922\n",
      "Final: 1226436151315201625\n",
      "Final: 1233681454807818930\n",
      "Results: 18.16125195575338\n",
      "CPU times: user 187 ms, sys: 65.7 ms, total: 253 ms\n",
      "Wall time: 2min 39s\n"
     ]
    }
   ],
   "source": [
    "%%time\n",
    "import tests\n",
    "\n",
    "tests.main()"
   ]
  },
  {
   "cell_type": "markdown",
   "id": "5f93b128-4e66-40c6-850c-7c12d0e1ce58",
   "metadata": {},
   "source": [
    "El resultado final que hemos obtenido ha sido de **18.16 dígitos** en 2min 39s"
   ]
  }
 ],
 "metadata": {
  "kernelspec": {
   "display_name": "Python 3 (ipykernel)",
   "language": "python",
   "name": "python3"
  },
  "language_info": {
   "codemirror_mode": {
    "name": "ipython",
    "version": 3
   },
   "file_extension": ".py",
   "mimetype": "text/x-python",
   "name": "python",
   "nbconvert_exporter": "python",
   "pygments_lexer": "ipython3",
   "version": "3.11.6"
  }
 },
 "nbformat": 4,
 "nbformat_minor": 5
}
